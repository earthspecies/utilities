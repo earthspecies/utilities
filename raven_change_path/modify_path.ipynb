{
 "cells": [
  {
   "cell_type": "code",
   "execution_count": 1,
   "metadata": {},
   "outputs": [],
   "source": [
    "from ipywidgets import widgets\n",
    "import io\n",
    "import pandas as pd\n",
    "import base64\n",
    "import re"
   ]
  },
  {
   "cell_type": "code",
   "execution_count": null,
   "metadata": {},
   "outputs": [],
   "source": []
  },
  {
   "cell_type": "code",
   "execution_count": 2,
   "metadata": {},
   "outputs": [],
   "source": [
    "uploader = widgets.FileUpload()"
   ]
  },
  {
   "cell_type": "code",
   "execution_count": 3,
   "metadata": {},
   "outputs": [],
   "source": [
    "inp = widgets.Text(\n",
    "    value=path if 'path' in vars() else '',\n",
    "    description='Absolute path to directory with audio files (modify here):',\n",
    "    placeholder='Please upload a sound selection table file',\n",
    "    disabled=False,\n",
    "    style={'description_width': 'initial'},\n",
    "    layout={'width': '80%'}\n",
    ")"
   ]
  },
  {
   "cell_type": "code",
   "execution_count": 4,
   "metadata": {},
   "outputs": [],
   "source": [
    "modify_btn = widgets.Button(\n",
    "    description='Modify file',\n",
    "    layout=widgets.Layout(height='auto', width='300px')\n",
    ")"
   ]
  },
  {
   "cell_type": "code",
   "execution_count": 5,
   "metadata": {},
   "outputs": [],
   "source": [
    "path_type_radio_select = widgets.Box(\n",
    "    [\n",
    "        widgets.Label(value='Make output path compatible with:'),\n",
    "        widgets.RadioButtons(\n",
    "            options=[\n",
    "                'Windows',\n",
    "                'all other platforms (Mac, Linux)',\n",
    "            ],\n",
    "            layout={'width': 'max-content'}\n",
    "        )\n",
    "    ]\n",
    ")"
   ]
  },
  {
   "cell_type": "code",
   "execution_count": 6,
   "metadata": {},
   "outputs": [],
   "source": [
    "retain_segments_radio_select = widgets.Box(\n",
    "    [\n",
    "        widgets.Label(value='Retain extra path segments:'),\n",
    "        widgets.RadioButtons(\n",
    "            options=[\n",
    "                '0  (only keep the filename, default)',\n",
    "                '1',\n",
    "                '2'\n",
    "            ],\n",
    "            layout={'width': 'max-content'}\n",
    "        )\n",
    "    ]\n",
    ")"
   ]
  },
  {
   "cell_type": "code",
   "execution_count": 7,
   "metadata": {},
   "outputs": [],
   "source": [
    "link_placeholder = widgets.HTML()"
   ]
  },
  {
   "cell_type": "code",
   "execution_count": 8,
   "metadata": {},
   "outputs": [],
   "source": [
    "vbox = widgets.VBox([\n",
    "    widgets.HTML('<h3>1. Use the button below to upload a sound selection table file</h3>'),\n",
    "    uploader,\n",
    "    widgets.HTML('<h3>2. Modify the absolute path below</h3>'),\n",
    "    inp,\n",
    "    widgets.HTML(\n",
    "        '''\n",
    "        <h3>3. How many segments of the old path to retain?</h3>\n",
    "        <p>This is useful if you have your data organized in subfolders.</p>\n",
    "        <p>For instance, if you have two paths <code>c:\\path_to_data\\site_A\\some_filename.wav</code> and <code>c:\\path_to_data\\site_B\\some_filename.wav</code>,\n",
    "         you might want to retain an extra segment of the path (on top of the file name). Retaining a single segment would mean you are modifying only\n",
    "         <code>c:\\path_to_data</code> and <code>site_B\\some_filename.wav</code> would be appended untouched.\n",
    "        '''\n",
    "    ),\n",
    "    retain_segments_radio_select,\n",
    "    widgets.HTML('<h3>4. Make the path compatible with Windows or other platforms</h3>'),\n",
    "    path_type_radio_select,\n",
    "    widgets.HTML('<h3>5. Press the button below to modify the file and display a download link</h3>'),\n",
    "    modify_btn,\n",
    "    link_placeholder\n",
    "])"
   ]
  },
  {
   "cell_type": "code",
   "execution_count": 9,
   "metadata": {},
   "outputs": [
    {
     "data": {
      "application/vnd.jupyter.widget-view+json": {
       "model_id": "86117ab738b54bb0a6ad9fec8abc5d3b",
       "version_major": 2,
       "version_minor": 0
      },
      "text/plain": [
       "VBox(children=(HTML(value='<h3>1. Use the button below to upload a sound selection table file</h3>'), FileUplo…"
      ]
     },
     "metadata": {},
     "output_type": "display_data"
    }
   ],
   "source": [
    "vbox"
   ]
  },
  {
   "cell_type": "code",
   "execution_count": 10,
   "metadata": {},
   "outputs": [],
   "source": [
    "def on_change(change):\n",
    "    global df, path, path_seperator\n",
    "    \n",
    "    if change['type'] == 'change':\n",
    "        if uploader.value:\n",
    "            uploaded_txt_content = uploader.value[list(uploader.value.keys())[0]]['content']\n",
    "            string_io = io.StringIO(uploaded_txt_content.decode())\n",
    "            df = pd.read_csv(string_io, sep=\"\\t\")\n",
    "            path_seperator = '\\\\' if '\\\\' in df['Begin Path'].iloc[0] else '/'\n",
    "#             fns = df['Begin Path'].apply(lambda v: v.split('\\\\').pop())\n",
    "            path = df['Begin Path'].apply(lambda v: path_seperator.join(v.split(path_seperator)[:-1]))[0]\n",
    "            inp.value = path"
   ]
  },
  {
   "cell_type": "code",
   "execution_count": 11,
   "metadata": {},
   "outputs": [],
   "source": [
    "def download_link_html(df, title = \"Download modified file\"):\n",
    "    uploaded_fn=list(uploader.value.keys())[0]\n",
    "    new_fn_chunks = uploaded_fn.split('.')\n",
    "    new_fn_chunks[-2] += '_modified'\n",
    "    new_fn = '.'.join(new_fn_chunks)\n",
    "    \n",
    "    segments_to_retain = int(retain_segments_radio_select.children[1].value[0])\n",
    "    path_segments_to_retain = df['Begin Path'].apply(lambda v: path_seperator.join(v.split(path_seperator)[-(segments_to_retain+1):]))\n",
    "\n",
    "    new_path = inp.value.rstrip('\\\\').rstrip('/')\n",
    "    df['Begin Path'] = path_segments_to_retain.apply(lambda fn_or_path: f'{new_path}{path_seperator}{fn_or_path}')\n",
    "    \n",
    "    if path_type_radio_select.children[-1].value == 'Windows':\n",
    "        df['Begin Path'] = df['Begin Path'].apply(lambda fn: re.subn('/', r'\\\\', fn)[0])\n",
    "    else:\n",
    "        df['Begin Path'] = df['Begin Path'].apply(lambda fn: re.subn(r'\\\\', '/', fn)[0])\n",
    "    \n",
    "    csv = df.to_csv(index=False, sep='\\t', float_format='%11.9f')\n",
    "    b64 = base64.b64encode(csv.encode())\n",
    "    payload = b64.decode()\n",
    "    html = '<a download=\"{filename}\" href=\"data:text/csv;base64,{payload}\" target=\"_blank\">{title}</a>'\n",
    "    html = html.format(payload=payload,title=title,filename=new_fn)\n",
    "    return html"
   ]
  },
  {
   "cell_type": "code",
   "execution_count": 12,
   "metadata": {},
   "outputs": [],
   "source": [
    "def display_download_link(_):\n",
    "    vbox.children = vbox.children[:-1]\n",
    "    vbox.children += (widgets.HTML(download_link_html(df)),)"
   ]
  },
  {
   "cell_type": "code",
   "execution_count": 13,
   "metadata": {},
   "outputs": [],
   "source": [
    "uploader.observe(on_change)"
   ]
  },
  {
   "cell_type": "code",
   "execution_count": 14,
   "metadata": {},
   "outputs": [],
   "source": [
    "modify_btn.on_click(display_download_link)"
   ]
  }
 ],
 "metadata": {
  "kernelspec": {
   "display_name": "Python 3",
   "language": "python",
   "name": "python3"
  },
  "language_info": {
   "codemirror_mode": {
    "name": "ipython",
    "version": 3
   },
   "file_extension": ".py",
   "mimetype": "text/x-python",
   "name": "python",
   "nbconvert_exporter": "python",
   "pygments_lexer": "ipython3",
   "version": "3.7.6"
  }
 },
 "nbformat": 4,
 "nbformat_minor": 4
}
